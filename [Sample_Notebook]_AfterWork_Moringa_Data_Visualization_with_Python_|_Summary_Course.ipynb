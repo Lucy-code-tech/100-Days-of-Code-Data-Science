{
  "nbformat": 4,
  "nbformat_minor": 0,
  "metadata": {
    "colab": {
      "provenance": [],
      "toc_visible": true,
      "collapsed_sections": [
        "T55zVl4XL_zy",
        "vrc0Fmz4M66O",
        "NcUSKLziRskX",
        "Pw7gIeihTHDV",
        "CXQ-XfH4THDu",
        "XSkfzUHlM-OO",
        "5bmMJx-MSSYT",
        "A1KV-GAeNJ3B",
        "hjlIQpsvTth7",
        "h5zEOKfiS9Kr",
        "AMFnNkq9U233",
        "4xJ0baejVFU5",
        "4hEUl2GYVFVF",
        "yjVRc8CdMFRR",
        "3DcYZzrpNWPW",
        "ZdkQ2O25WIJv",
        "ABey5YCGNZ79",
        "3oStbzDXW4T0",
        "7IgHIsUzNdf0",
        "7FS3ldq_XtiF",
        "o9gUvQurNhB7",
        "9yHZ506VYcuF",
        "nDQjULuDMVSa",
        "Fdye3GBrNx7J",
        "xAS4x0wRDsM-",
        "sTAqpElBN1Fx",
        "3uM5tAfNEjwZ",
        "QMerdldVOA0A",
        "E2NFsne9F5ex",
        "0g5wIevSOIp6",
        "ROPJtxFcKZES",
        "-nVGyKmlMRuf",
        "H3PKvx2EOWKR",
        "5KnL4MqHNTSH",
        "PE5Yr9d0OaSJ",
        "LSS7gmKFPURg",
        "L4YPfZYcOgHK",
        "Fu-sanGcSGQu",
        "fSkcvX3UOlmJ",
        "dg4V-SyeTq04",
        "HCIE_WtDMJxP",
        "rsB164mjOpoq",
        "CGp4Si3pcoA7",
        "_o_L51flPB4T",
        "fmrMWbeeeIZ3",
        "bd7ORaefMNiu",
        "VvIfjbFJPJzS",
        "S72qUJoygaYV",
        "jYDkifT9PNnv",
        "utzASu7SkJKP",
        "_Qw26nvpPQkM",
        "tzT2bvKclnzN",
        "ZMxUlXVtPUiP",
        "sZBTc4GSpCzE"
      ],
      "include_colab_link": true
    },
    "kernelspec": {
      "name": "python3",
      "display_name": "Python 3"
    },
    "language_info": {
      "name": "python"
    }
  },
  "cells": [
    {
      "cell_type": "markdown",
      "metadata": {
        "id": "view-in-github",
        "colab_type": "text"
      },
      "source": [
        "<a href=\"https://colab.research.google.com/github/Lucy-code-tech/100-Days-of-Code-Data-Science/blob/main/%5BSample_Notebook%5D_AfterWork_Moringa_Data_Visualization_with_Python_%7C_Summary_Course.ipynb\" target=\"_parent\"><img src=\"https://colab.research.google.com/assets/colab-badge.svg\" alt=\"Open In Colab\"/></a>"
      ]
    },
    {
      "cell_type": "markdown",
      "source": [
        "# [Sample Notebook] AfterWork: Moringa Data Visualization with Python"
      ],
      "metadata": {
        "id": "3PIVA1YuL8ep"
      }
    },
    {
      "cell_type": "markdown",
      "source": [
        "# 1. Python Essentials"
      ],
      "metadata": {
        "id": "T55zVl4XL_zy"
      }
    },
    {
      "cell_type": "markdown",
      "source": [
        "## 1.1 Print Statements"
      ],
      "metadata": {
        "id": "vrc0Fmz4M66O"
      }
    },
    {
      "cell_type": "markdown",
      "source": [
        "Print statements in Python allow us to display output to the console. They are essential for debugging, testing, and providing feedback to the user.\n",
        "\n"
      ],
      "metadata": {
        "id": "-TsTMj8CRpmg"
      }
    },
    {
      "cell_type": "code",
      "execution_count": null,
      "metadata": {
        "id": "7RU0DKi7LwQM"
      },
      "outputs": [],
      "source": [
        "# Simple code example using print statements in Python\n",
        "# Displaying multiple lines of text with proper indentation\n",
        "\n",
        "print(\"Hello,\")\n",
        "print(\"Welcome to\")\n",
        "print(\"Python programming!\")"
      ]
    },
    {
      "cell_type": "markdown",
      "source": [
        "### Challenge"
      ],
      "metadata": {
        "id": "NcUSKLziRskX"
      }
    },
    {
      "cell_type": "markdown",
      "source": [
        "Create a Python program that prints out the text 'Twinkle, Twinkle, Little Star'."
      ],
      "metadata": {
        "id": "sG-4IYPxRw6D"
      }
    },
    {
      "cell_type": "code",
      "source": [
        "# Write your code here\n"
      ],
      "metadata": {
        "id": "7inLWg2NRt7V"
      },
      "execution_count": null,
      "outputs": []
    },
    {
      "cell_type": "markdown",
      "source": [
        "## 1.2 Variables and Data Types"
      ],
      "metadata": {
        "id": "Pw7gIeihTHDV"
      }
    },
    {
      "cell_type": "markdown",
      "source": [
        "Variables and data types in Python allow us to store and manipulate different types of information. Variables are used to store data values, while data types define the type of data that can be stored in a variable. This concept is important because it allows us to work with different types of data and perform various operations on them.\n",
        "\n"
      ],
      "metadata": {
        "id": "Ds96thSSTHDt"
      }
    },
    {
      "cell_type": "code",
      "execution_count": null,
      "metadata": {
        "id": "8HBN-AZOTHDt"
      },
      "outputs": [],
      "source": [
        "# Creating variables of different data types\n",
        "name = \"John\"\n",
        "age = 30\n",
        "height = 5.9\n",
        "is_student = True\n",
        "\n",
        "# Displaying the variables\n",
        "print(name)\n",
        "print(age)\n",
        "print(height)\n",
        "print(is_student)"
      ]
    },
    {
      "cell_type": "markdown",
      "source": [
        "### Challenge"
      ],
      "metadata": {
        "id": "CXQ-XfH4THDu"
      }
    },
    {
      "cell_type": "markdown",
      "source": [
        "Create a variable called 'price' and assign it the value 25.99. Then, create a variable called 'quantity' and assign it the value 10. Display the values of both variables separately using the `print()` function"
      ],
      "metadata": {
        "id": "PakCRL8wTHDv"
      }
    },
    {
      "cell_type": "code",
      "source": [
        "# Write your code here\n"
      ],
      "metadata": {
        "id": "QXyQ-rBWTHDv"
      },
      "execution_count": null,
      "outputs": []
    },
    {
      "cell_type": "markdown",
      "source": [
        "## 1.3 Basic Arithmetic Operations"
      ],
      "metadata": {
        "id": "XSkfzUHlM-OO"
      }
    },
    {
      "cell_type": "markdown",
      "source": [
        "Performing basic arithmetic operations in Python allows us to manipulate numerical values. This includes addition, subtraction, multiplication, and division. These operations are fundamental in programming and are used extensively in mathematical calculations and data manipulation.\n",
        "\n"
      ],
      "metadata": {
        "id": "ChLghzsvSNje"
      }
    },
    {
      "cell_type": "code",
      "execution_count": null,
      "metadata": {
        "id": "VdiIemsWM-OP"
      },
      "outputs": [],
      "source": [
        "# Addition\n",
        "result_addition = 5 + 3\n",
        "print(\"Addition:\", result_addition)\n",
        "\n",
        "# Subtraction\n",
        "result_subtraction = 10 - 4\n",
        "print(\"Subtraction:\", result_subtraction)\n",
        "\n",
        "# Multiplication\n",
        "result_multiplication = 6 * 2\n",
        "print(\"Multiplication:\", result_multiplication)\n",
        "\n",
        "# Division\n",
        "result_division = 15 / 3\n",
        "print(\"Division:\", result_division)"
      ]
    },
    {
      "cell_type": "markdown",
      "source": [
        "### Challenge"
      ],
      "metadata": {
        "id": "5bmMJx-MSSYT"
      }
    },
    {
      "cell_type": "markdown",
      "source": [
        "Calculate the total cost of purchasing 5 items that cost $10 each, with a 10% discount on the total amount. First, calculate the total cost of the items without the discount by multiplying the cost of each item by the quantity. Then, apply the 10% discount to the total amount to get the final cost."
      ],
      "metadata": {
        "id": "ANCHPw9PSUq8"
      }
    },
    {
      "cell_type": "code",
      "source": [
        "# Write your code here\n"
      ],
      "metadata": {
        "id": "uqJnKYTZSghq"
      },
      "execution_count": null,
      "outputs": []
    },
    {
      "cell_type": "markdown",
      "source": [
        "## 1.4 Type Conversion"
      ],
      "metadata": {
        "id": "A1KV-GAeNJ3B"
      }
    },
    {
      "cell_type": "markdown",
      "source": [
        "Converting data types in Python allows us to change the type of a variable from one data type to another. This is important because it allows us to perform operations that require variables of the same data type, such as adding two numbers together or concatenating two strings.\n",
        "\n"
      ],
      "metadata": {
        "id": "J2lA71_6TqEp"
      }
    },
    {
      "cell_type": "code",
      "execution_count": null,
      "metadata": {
        "id": "OIRY721lNJ3C"
      },
      "outputs": [],
      "source": [
        "# Type conversion example\n",
        "# Converting integer to string\n",
        "\n",
        "num_int = 123\n",
        "num_str = str(num_int)\n",
        "\n",
        "print(\"Integer:\", num_int)\n",
        "print(\"String:\", num_str)"
      ]
    },
    {
      "cell_type": "markdown",
      "source": [
        "### Challenge"
      ],
      "metadata": {
        "id": "hjlIQpsvTth7"
      }
    },
    {
      "cell_type": "markdown",
      "source": [
        "Convert the given integer variable 'num_int' to a float data type in Python.\n",
        "Hint: Use the float() function to convert an integer to a float data type. For example, float(num_int)"
      ],
      "metadata": {
        "id": "LByAFEfDT0sl"
      }
    },
    {
      "cell_type": "code",
      "source": [
        "# Converting integer to float\n",
        "\n",
        "num_int = 123\n",
        "\n",
        "# Write your code here\n"
      ],
      "metadata": {
        "id": "j5t1abjSTu20"
      },
      "execution_count": null,
      "outputs": []
    },
    {
      "cell_type": "markdown",
      "source": [
        "## 1.5 Lists and Dictionaries"
      ],
      "metadata": {
        "id": "h5zEOKfiS9Kr"
      }
    },
    {
      "cell_type": "markdown",
      "source": [
        "Lists and dictionaries are data structures that allow us to store and organize multiple values in a single variable. Lists are ordered collections of items, while dictionaries are unordered collections of key-value pairs. Dictionaries, on the other hand, are used when we need to associate keys with values for easy retrieval. Both are important concepts in programming because they help us manage and manipulate data efficiently. By using them, we can store large amounts of data in a structured way, making it easier to access and process."
      ],
      "metadata": {
        "id": "2MPxlvwNUe1i"
      }
    },
    {
      "cell_type": "code",
      "execution_count": null,
      "metadata": {
        "id": "KbvEy5ljS9Ks"
      },
      "outputs": [],
      "source": [
        "# Define a list\n",
        "my_list = [1, 2, 3, 4, 5]\n",
        "\n",
        "# Access items in the list\n",
        "print(my_list[0])"
      ]
    },
    {
      "cell_type": "code",
      "source": [
        "# Define a dictionary\n",
        "my_dict = {\"key1\": \"value1\", \"key2\": \"value2\"}\n",
        "\n",
        "# Access values in the dictionary\n",
        "print(my_dict[\"key1\"])"
      ],
      "metadata": {
        "id": "D1axzqgJUx5O"
      },
      "execution_count": null,
      "outputs": []
    },
    {
      "cell_type": "markdown",
      "source": [
        "## 1.6 Conditional Statements"
      ],
      "metadata": {
        "id": "4xJ0baejVFU5"
      }
    },
    {
      "cell_type": "markdown",
      "source": [
        "Conditional statements in Python allow us to execute different blocks of code based on whether a certain condition is true or false. This allows us to control the flow of our program and make decisions based on specific criteria.\n",
        "\n"
      ],
      "metadata": {
        "id": "yt5TIhqJVFVF"
      }
    },
    {
      "cell_type": "code",
      "execution_count": null,
      "metadata": {
        "id": "yUNoRU4eVFVF"
      },
      "outputs": [],
      "source": [
        "x = 10\n",
        "if x > 5:\n",
        "    print(\"x is greater than 5\")\n",
        "else:\n",
        "    print(\"x is not greater than 5\")"
      ]
    },
    {
      "cell_type": "markdown",
      "source": [
        "# 2. Python Loops and Functions"
      ],
      "metadata": {
        "id": "yjVRc8CdMFRR"
      }
    },
    {
      "cell_type": "markdown",
      "source": [
        "## 2.1 For Loops"
      ],
      "metadata": {
        "id": "3DcYZzrpNWPW"
      }
    },
    {
      "cell_type": "markdown",
      "source": [
        "For loops in Python allow us to iterate over a sequence of elements, such as a list or a range of numbers. They are important because they help us automate repetitive tasks and make our code more efficient."
      ],
      "metadata": {
        "id": "xmFQwYRTWD0Z"
      }
    },
    {
      "cell_type": "code",
      "execution_count": null,
      "metadata": {
        "id": "tSjX3cY_MFRT"
      },
      "outputs": [],
      "source": [
        "# Example of using a for loop to iterate over a list of numbers and print each number\n",
        "numbers = [1, 2, 3, 4, 5]\n",
        "\n",
        "for num in numbers:\n",
        "    print(num)"
      ]
    },
    {
      "cell_type": "markdown",
      "source": [
        "### Challenge"
      ],
      "metadata": {
        "id": "ZdkQ2O25WIJv"
      }
    },
    {
      "cell_type": "markdown",
      "source": [
        "Iterate over a list of fruits and print out the fruit if it is equal to 'apple'\n",
        "Define a list of fruits such as ['banana', 'apple', 'orange', 'apple'] and use a for loop to iterate over each fruit. Within the loop, use an if statement to check if the fruit is equal to 'apple' and print out the fruit if the condition is met."
      ],
      "metadata": {
        "id": "2-P-Jv0kWksr"
      }
    },
    {
      "cell_type": "code",
      "source": [
        "# Write your code here\n"
      ],
      "metadata": {
        "id": "nK2zO89OWJne"
      },
      "execution_count": null,
      "outputs": []
    },
    {
      "cell_type": "markdown",
      "source": [
        "## 2.2 While Loops"
      ],
      "metadata": {
        "id": "ABey5YCGNZ79"
      }
    },
    {
      "cell_type": "markdown",
      "source": [
        "While loops in Python allow us to repeatedly execute a block of code as long as a specified condition is true. They are important because they help us automate repetitive tasks and make our code more efficient."
      ],
      "metadata": {
        "id": "5TQtgXLCWs69"
      }
    },
    {
      "cell_type": "code",
      "execution_count": null,
      "metadata": {
        "id": "hv01Wn2TNZ7-"
      },
      "outputs": [],
      "source": [
        "# Using a while loop to print numbers from 1 to 5\n",
        "num = 1\n",
        "while num <= 5:\n",
        "    print(num)\n",
        "    num += 1  # Similar to num = num + 1"
      ]
    },
    {
      "cell_type": "markdown",
      "source": [
        "### Challenge"
      ],
      "metadata": {
        "id": "3oStbzDXW4T0"
      }
    },
    {
      "cell_type": "markdown",
      "source": [
        "Create a program that simulates a simple countdown timer starting from 10 and ending at 0\n",
        "Use a while loop with a condition that checks if the countdown value is greater than or equal to 0. Inside the loop, print the current countdown value and decrement it by 1 in each iteration."
      ],
      "metadata": {
        "id": "CU8pnioWXNgB"
      }
    },
    {
      "cell_type": "code",
      "source": [
        "# Countdown timer from 10 to 0\n",
        "num = 10\n",
        "\n",
        "# Write your code here\n"
      ],
      "metadata": {
        "id": "7pTW1KS3W6Cm"
      },
      "execution_count": null,
      "outputs": []
    },
    {
      "cell_type": "markdown",
      "source": [
        "## 2.3 In-built Functions"
      ],
      "metadata": {
        "id": "7IgHIsUzNdf0"
      }
    },
    {
      "cell_type": "markdown",
      "source": [
        "In-built functions in Python are pre-defined functions that are readily available for use in our code. These functions are built into the Python interpreter and can be called upon to perform specific tasks without the need for us to define them ourselves. In-built functions are important because they provide a wide range of functionality that can help us streamline our code and make it more efficient."
      ],
      "metadata": {
        "id": "epgcc1x-Xobp"
      }
    },
    {
      "cell_type": "code",
      "execution_count": null,
      "metadata": {
        "id": "gDI6RBZDNdf1"
      },
      "outputs": [],
      "source": [
        "# Example of using the built-in function len() to get the length of a list\n",
        "my_list = [1, 2, 3, 4, 5]\n",
        "\n",
        "# Determine the length of my_list\n",
        "list_length = len(my_list)\n",
        "\n",
        "print(\"Length of the list:\", list_length)"
      ]
    },
    {
      "cell_type": "markdown",
      "source": [
        "## 2.4 Functions and parameters"
      ],
      "metadata": {
        "id": "o9gUvQurNhB7"
      }
    },
    {
      "cell_type": "markdown",
      "source": [
        "Functions and parameters in Python allow us to create reusable blocks of code that can accept input values. Functions are a way to organize code into logical units, making it easier to read and maintain. Parameters are variables that we can pass into a function to customize its behavior.\n",
        "\n"
      ],
      "metadata": {
        "id": "I8hKV29QYWjC"
      }
    },
    {
      "cell_type": "code",
      "execution_count": null,
      "metadata": {
        "id": "TfcZkViFNhB7"
      },
      "outputs": [],
      "source": [
        "def greet(name):\n",
        "    # This function takes a name as a parameter and prints a greeting message\n",
        "    print(\"Hello, \" + name + \"!\")\n",
        "\n",
        "# Call the greet function with the parameter \"Alice\"\n",
        "greet(\"Alice\")"
      ]
    },
    {
      "cell_type": "markdown",
      "source": [
        "# 3. Data Cleaning in Pandas"
      ],
      "metadata": {
        "id": "nDQjULuDMVSa"
      }
    },
    {
      "cell_type": "code",
      "source": [
        "# Import pandas for data manipulation\n",
        "import pandas as pd"
      ],
      "metadata": {
        "id": "buJP8NoJOy4N"
      },
      "execution_count": null,
      "outputs": []
    },
    {
      "cell_type": "markdown",
      "source": [
        "## 3.1 Loading and Exploring Data"
      ],
      "metadata": {
        "id": "Fdye3GBrNx7J"
      }
    },
    {
      "cell_type": "markdown",
      "source": [
        "Loading and exploring CSV data in Python using Pandas allows us to easily import and analyze tabular data stored in CSV files. This is important because CSV files are a common format for storing data and being able to load and explore this data is a fundamental skill in data analysis.\n",
        "\n"
      ],
      "metadata": {
        "id": "3Et3fWYlDmus"
      }
    },
    {
      "cell_type": "code",
      "execution_count": null,
      "metadata": {
        "id": "boms97i0MVSb"
      },
      "outputs": [],
      "source": [
        "# Load the CSV data into a DataFrame\n",
        "df = pd.read_csv(\"https://afterwork.ai/ds/e/information_technology_hmvpd.csv\")"
      ]
    },
    {
      "cell_type": "code",
      "source": [
        "# Display the first 5 rows of the DataFrame\n",
        "df.head()"
      ],
      "metadata": {
        "id": "B9_aKP0PzwPG"
      },
      "execution_count": null,
      "outputs": []
    },
    {
      "cell_type": "code",
      "source": [
        "# Check the shape of the DataFrame\n",
        "df.shape"
      ],
      "metadata": {
        "id": "oZLt55Gjzxqc"
      },
      "execution_count": null,
      "outputs": []
    },
    {
      "cell_type": "code",
      "source": [
        "# Check the data types of each column\n",
        "df.dtypes"
      ],
      "metadata": {
        "id": "ibG07oRUzy7O"
      },
      "execution_count": null,
      "outputs": []
    },
    {
      "cell_type": "code",
      "source": [
        "# Get a statistical summary of the numerical columns\n",
        "df.describe()"
      ],
      "metadata": {
        "id": "k2m2w2C_z0Ky"
      },
      "execution_count": null,
      "outputs": []
    },
    {
      "cell_type": "markdown",
      "source": [
        "### Challenge"
      ],
      "metadata": {
        "id": "xAS4x0wRDsM-"
      }
    },
    {
      "cell_type": "markdown",
      "source": [
        "Load and explore the CSV data from the dataset located at https://afterwork.ai/ds/ch/sales_v1j6e.csv using Python and Pandas. Display the first 5 rows of the dataset to get an overview of the data structure.\n"
      ],
      "metadata": {
        "id": "thhNEz5ED0wO"
      }
    },
    {
      "cell_type": "code",
      "source": [
        "# Write your code here\n"
      ],
      "metadata": {
        "id": "lG7MuUQ5Dvkz"
      },
      "execution_count": null,
      "outputs": []
    },
    {
      "cell_type": "markdown",
      "source": [
        "## 3.2 Cleaning Columns"
      ],
      "metadata": {
        "id": "sTAqpElBN1Fx"
      }
    },
    {
      "cell_type": "markdown",
      "source": [
        "Cleaning columns in Python using Pandas involves removing or replacing any inconsistent, missing, or incorrect data in a specific column of a DataFrame. This is important to ensure the accuracy and reliability of our data analysis results.\n",
        "\n"
      ],
      "metadata": {
        "id": "oRSGEw6MEfdO"
      }
    },
    {
      "cell_type": "code",
      "execution_count": null,
      "metadata": {
        "id": "NA-oE041N1Fy"
      },
      "outputs": [],
      "source": [
        "# Load the dataset\n",
        "df = pd.read_csv(\"https://afterwork.ai/ds/e/information_technology_hmvpd.csv\")\n",
        "\n",
        "# Display the columns before cleaning\n",
        "print(\"Columns before cleaning:\")\n",
        "print(df.columns)\n",
        "\n",
        "# Clean the columns by replacing spaces with underscores\n",
        "df.columns = df.columns.str.replace(' ', '_')\n",
        "\n",
        "# Display the columns after cleaning\n",
        "print(\"\\nColumns after cleaning:\")\n",
        "print(df.columns)"
      ]
    },
    {
      "cell_type": "markdown",
      "source": [
        "### Challenge"
      ],
      "metadata": {
        "id": "3uM5tAfNEjwZ"
      }
    },
    {
      "cell_type": "markdown",
      "source": [
        "Write a Python program to replace spaces ( ) with hyphens (-) in the column names of the given dataset from the URL: https://afterwork.ai/ds/ch/sales_itf1.csv. This is important to ensure consistency and ease of access when working with the data. To replace periods with underscores in column names, you can use the Pandas `str.replace()` function.\n"
      ],
      "metadata": {
        "id": "Ylxttd7XEvS4"
      }
    },
    {
      "cell_type": "code",
      "source": [
        "# Load the dataset\n",
        "df = pd.read_csv(\"https://afterwork.ai/ds/ch/sales_itf1.csv\")\n",
        "\n",
        "# Display the columns before cleaning\n",
        "print(\"Columns before cleaning:\")\n",
        "print(df.columns)\n",
        "\n",
        "# Replace spaces with hyphens in column names\n",
        "# Write your code here\n",
        "\n",
        "\n",
        "# Display the columns after cleaning\n",
        "print(\"\\nColumns after cleaning:\")\n",
        "# Write your code here\n"
      ],
      "metadata": {
        "id": "pJ47pLlCElZf"
      },
      "execution_count": null,
      "outputs": []
    },
    {
      "cell_type": "markdown",
      "source": [
        "## 3.3 Data Type Conversion"
      ],
      "metadata": {
        "id": "QMerdldVOA0A"
      }
    },
    {
      "cell_type": "markdown",
      "source": [
        "Data type column conversion in Python using Pandas allows us to change the data type of a column in a DataFrame. This is important because it ensures that the data is in the correct format for analysis and visualization.\n",
        "\n"
      ],
      "metadata": {
        "id": "fQplUwYJF2ka"
      }
    },
    {
      "cell_type": "code",
      "execution_count": null,
      "metadata": {
        "id": "vbXTDUC8OA0N"
      },
      "outputs": [],
      "source": [
        "# Load the dataset\n",
        "df = pd.read_csv(\"https://afterwork.ai/ds/e/sales_0gj9k.csv\")\n",
        "\n",
        "# Print the current data types\n",
        "print(df.dtypes)\n",
        "\n",
        "# Convert 'Price' column to float\n",
        "df['Price'] = df['Price'].astype(float)\n",
        "\n",
        "# Convert 'Sales Quantity' column to int\n",
        "df['Sales Quantity'] = df['Sales Quantity'].astype(int)\n",
        "\n",
        "# Convert 'Total Sales' column to float\n",
        "df['Total Sales'] = df['Total Sales'].astype(float)\n",
        "\n",
        "# Print the updated data types\n",
        "print(df.dtypes)"
      ]
    },
    {
      "cell_type": "markdown",
      "source": [
        "## 3.4 Handling Missing Data"
      ],
      "metadata": {
        "id": "0g5wIevSOIp6"
      }
    },
    {
      "cell_type": "markdown",
      "source": [
        "Handling missing values in Python using data cleaning techniques with Pandas allows us to effectively deal with null or missing values in our dataset. Missing values can cause issues in data analysis and machine learning models, so it is important to address them properly.\n",
        "\n"
      ],
      "metadata": {
        "id": "_uScaVB9KOH7"
      }
    },
    {
      "cell_type": "code",
      "execution_count": null,
      "metadata": {
        "id": "nicD6O0aOIp7"
      },
      "outputs": [],
      "source": [
        "# Load the dataset\n",
        "df = pd.read_csv(\"https://afterwork.ai/ds/e/sales_nsxko.csv\")\n",
        "\n",
        "# Check for missing values\n",
        "missing_values = df.isnull().sum()\n",
        "print(missing_values)\n",
        "\n",
        "# Fill missing values with 0\n",
        "df.fillna(0, inplace=True)\n",
        "\n",
        "# Check again for missing values after filling\n",
        "missing_values_after_fill = df.isnull().sum()\n",
        "print(missing_values_after_fill)"
      ]
    },
    {
      "cell_type": "markdown",
      "source": [
        "### Challenge"
      ],
      "metadata": {
        "id": "ROPJtxFcKZES"
      }
    },
    {
      "cell_type": "markdown",
      "source": [
        "Check for missing values in the 'Sales' column of the dataset from the URL: https://afterwork.ai/ds/ch/sales_zmwr.csv and replace any missing values with 0.\n"
      ],
      "metadata": {
        "id": "fuiAxRcXK0ty"
      }
    },
    {
      "cell_type": "code",
      "source": [
        "# Load the dataset\n",
        "df = pd.read_csv(\"https://afterwork.ai/ds/ch/sales_zmwr.csv\")\n",
        "\n",
        "# Check for missing values\n",
        "# Write your code here\n",
        "\n",
        "\n",
        "# Fill missing values with 0\n",
        "# Write your code here\n",
        "\n",
        "\n",
        "# Check again for missing values after filling\n",
        "# Write your code here\n"
      ],
      "metadata": {
        "id": "Nit8r7Z8KadO"
      },
      "execution_count": null,
      "outputs": []
    },
    {
      "cell_type": "markdown",
      "source": [
        "# 4. Data Analysis in Pandas"
      ],
      "metadata": {
        "id": "-nVGyKmlMRuf"
      }
    },
    {
      "cell_type": "markdown",
      "source": [
        "## 4.1 Selecting columns"
      ],
      "metadata": {
        "id": "H3PKvx2EOWKR"
      }
    },
    {
      "cell_type": "markdown",
      "source": [
        "Selecting specific columns allows us to extract only the columns that are relevant to our analysis. This helps us focus on the necessary data and avoid unnecessary information, making our analysis more efficient and effective.\n",
        "\n"
      ],
      "metadata": {
        "id": "ZeSFmOO1M_4b"
      }
    },
    {
      "cell_type": "code",
      "execution_count": null,
      "metadata": {
        "id": "WxmBC-iHMRug"
      },
      "outputs": [],
      "source": [
        "# Load the dataset\n",
        "sales_data = pd.read_csv(\"https://afterwork.ai/ds/e/sales_8jwko.csv\")\n",
        "\n",
        "# Preview the dataset\n",
        "sales_data.head()"
      ]
    },
    {
      "cell_type": "code",
      "source": [
        "# Select specific columns\n",
        "selected_columns = sales_data[['Product', 'Price', 'Salesperson', 'Region']]\n",
        "\n",
        "# Preview the selected columns dataset\n",
        "selected_columns.head()"
      ],
      "metadata": {
        "id": "1oayAGBtNIO0"
      },
      "execution_count": null,
      "outputs": []
    },
    {
      "cell_type": "markdown",
      "source": [
        "### Challenge"
      ],
      "metadata": {
        "id": "5KnL4MqHNTSH"
      }
    },
    {
      "cell_type": "markdown",
      "source": [
        "Select only the 'Product' and 'Price' columns from the dataset located at https://afterwork.ai/ds/ch/sales_sgwr.csv. This will help us focus on the specific information related to the products and their prices.\n"
      ],
      "metadata": {
        "id": "3mcaIjPaNprw"
      }
    },
    {
      "cell_type": "code",
      "source": [
        "# Load the dataset\n",
        "sales_data = pd.read_csv(\"https://afterwork.ai/ds/ch/sales_sgwr.csv\")\n",
        "\n",
        "# Select specific columns\n",
        "# Write your code here\n",
        "\n",
        "# Preview the selected columns dataset\n",
        "# Write your code here\n"
      ],
      "metadata": {
        "id": "k6LrtM2bNpKO"
      },
      "execution_count": null,
      "outputs": []
    },
    {
      "cell_type": "markdown",
      "source": [
        "## 4.2 Filtering"
      ],
      "metadata": {
        "id": "PE5Yr9d0OaSJ"
      }
    },
    {
      "cell_type": "markdown",
      "source": [
        "Filtering allows us to extract specific rows from a DataFrame based on certain conditions. This method is useful for quickly filtering out data that meets specific criteria, making it easier to analyze and work with subsets of data.\n",
        "\n"
      ],
      "metadata": {
        "id": "raktxXL1PPZZ"
      }
    },
    {
      "cell_type": "code",
      "source": [
        "# Load the dataset\n",
        "df = pd.read_csv(\"https://afterwork.ai/ds/e/sales_my30d.csv\")\n",
        "\n",
        "# Preview the dataset\n",
        "df.head()"
      ],
      "metadata": {
        "id": "rFrc0E3RO7ji"
      },
      "execution_count": null,
      "outputs": []
    },
    {
      "cell_type": "code",
      "execution_count": null,
      "metadata": {
        "id": "55H52EkxOaSL"
      },
      "outputs": [],
      "source": [
        "# Filter the data using the querying method\n",
        "filtered_data = df.query('Category == \"Electronics\" and Price > 500')\n",
        "\n",
        "# Display the filtered data\n",
        "filtered_data.head()"
      ]
    },
    {
      "cell_type": "markdown",
      "source": [
        "### Challenge"
      ],
      "metadata": {
        "id": "LSS7gmKFPURg"
      }
    },
    {
      "cell_type": "markdown",
      "source": [
        "Filter the dataset from the URL: https://afterwork.ai/ds/ch/sales_oc1a.csv to only show rows where the Category is 'Furniture'.\n"
      ],
      "metadata": {
        "id": "c-7G22GpPYgo"
      }
    },
    {
      "cell_type": "code",
      "source": [
        "# Load the dataset\n",
        "df = pd.read_csv(\"https://afterwork.ai/ds/ch/sales_oc1a.csv\")\n",
        "\n",
        "# Filter the data to only show rows where the Category is 'Furniture'\n",
        "# Write your code here\n",
        "\n",
        "# Preview the filtered data\n",
        "# Write your code here\n"
      ],
      "metadata": {
        "id": "flYVBjzEPV2J"
      },
      "execution_count": null,
      "outputs": []
    },
    {
      "cell_type": "markdown",
      "source": [
        "## 4.3 Sorting"
      ],
      "metadata": {
        "id": "L4YPfZYcOgHK"
      }
    },
    {
      "cell_type": "markdown",
      "source": [
        "Sorting in ascending and descending order allows us to arrange data in a specific order based on the values in a column. This is important for organizing and analyzing data in a meaningful way.\n",
        "\n"
      ],
      "metadata": {
        "id": "UTI3SiKBSDuW"
      }
    },
    {
      "cell_type": "code",
      "source": [
        "# Load the dataset\n",
        "df = pd.read_csv(\"https://afterwork.ai/ds/e/sales_vrbx2.csv\")\n",
        "\n",
        "# Preview the dataset\n",
        "df.head()"
      ],
      "metadata": {
        "id": "traKlB79Ru38"
      },
      "execution_count": null,
      "outputs": []
    },
    {
      "cell_type": "code",
      "execution_count": null,
      "metadata": {
        "id": "JaPzUKamOgH-"
      },
      "outputs": [],
      "source": [
        "# Sort the data in ascending order based on the 'Price' column\n",
        "df_sorted_ascending = df.sort_values(by='Price', ascending=True)\n",
        "df_sorted_ascending.head()"
      ]
    },
    {
      "cell_type": "code",
      "source": [
        "# Sort the data in descending order based on the 'Quantity' column\n",
        "df_sorted_descending = df.sort_values(by='Quantity', ascending=False)\n",
        "df_sorted_descending.head()"
      ],
      "metadata": {
        "id": "gpuDxTPUR6mM"
      },
      "execution_count": null,
      "outputs": []
    },
    {
      "cell_type": "markdown",
      "source": [
        "## 4.4 Grouping"
      ],
      "metadata": {
        "id": "fSkcvX3UOlmJ"
      }
    },
    {
      "cell_type": "markdown",
      "source": [
        "Grouping data allows us to split the data into groups based on some criteria, apply a function to each group independently, and then combine the results. This is useful for performing aggregate functions on subsets of data, such as calculating the mean, sum, or count for each group."
      ],
      "metadata": {
        "id": "nf5G5YweTNgt"
      }
    },
    {
      "cell_type": "code",
      "execution_count": null,
      "metadata": {
        "id": "2vMDjJOxOlmU"
      },
      "outputs": [],
      "source": [
        "# Load the dataset\n",
        "df = pd.read_csv(\"https://afterwork.ai/ds/e/sales_1pfdx.csv\")\n",
        "\n",
        "# Preview the dataset\n",
        "df.head()"
      ]
    },
    {
      "cell_type": "code",
      "source": [
        "# Group the data by Region and calculate the total Sales Amount for each region\n",
        "grouped_data = df.groupby('Region')['Sales Amount'].sum()\n",
        "\n",
        "# Display the summary table\n",
        "df_grouped_data = grouped_data.reset_index()\n",
        "df_grouped_data"
      ],
      "metadata": {
        "id": "bi-FPN_WTXk8"
      },
      "execution_count": null,
      "outputs": []
    },
    {
      "cell_type": "markdown",
      "source": [
        "# 5. Statistical Measures"
      ],
      "metadata": {
        "id": "HCIE_WtDMJxP"
      }
    },
    {
      "cell_type": "markdown",
      "source": [
        "## 5.1 Calculating Mean and Sum Values"
      ],
      "metadata": {
        "id": "rsB164mjOpoq"
      }
    },
    {
      "cell_type": "markdown",
      "source": [
        "Calculating mean and sum allows us to analyze and summarize data based on specific categories or groups. This is important for understanding the distribution of data within each group and making comparisons between different groups.\n"
      ],
      "metadata": {
        "id": "ONo_2naUX2Ap"
      }
    },
    {
      "cell_type": "code",
      "execution_count": null,
      "metadata": {
        "id": "LpsDys8BMJxQ"
      },
      "outputs": [],
      "source": [
        "# Load the dataset\n",
        "data = pd.read_csv(\"https://afterwork.ai/ds/e/operations_rvynb.csv\")\n",
        "\n",
        "# Calculate the mean of the 'Price' column\n",
        "mean_price = data['Price'].mean()\n",
        "print(\"Mean Price:\", mean_price)\n",
        "\n",
        "# Calculate the sum of the 'Quantity' column\n",
        "sum_quantity = data['Quantity'].sum()\n",
        "print(\"Sum Quantity:\", sum_quantity)"
      ]
    },
    {
      "cell_type": "markdown",
      "source": [
        "### Challenge"
      ],
      "metadata": {
        "id": "CGp4Si3pcoA7"
      }
    },
    {
      "cell_type": "markdown",
      "source": [
        "Calculate the mean and sum of the 'Quantity' column in the dataset from the URL: https://afterwork.ai/ds/ch/operations_8idj.csv\n"
      ],
      "metadata": {
        "id": "TIS9-19Sc9VA"
      }
    },
    {
      "cell_type": "code",
      "source": [
        "# Load the dataset\n",
        "data = pd.read_csv(\"https://afterwork.ai/ds/ch/operations_8idj.csv\")\n",
        "\n",
        "# Calculate the mean of the 'Quantity' column\n",
        "# Write your code here\n",
        "\n",
        "\n",
        "# Calculate the sum of the 'Quantity' column\n",
        "# Write your code here\n"
      ],
      "metadata": {
        "id": "JtRy6_Pyc_O9"
      },
      "execution_count": null,
      "outputs": []
    },
    {
      "cell_type": "markdown",
      "source": [
        "## 5.2 Calculating Minimum and Maximum Value"
      ],
      "metadata": {
        "id": "_o_L51flPB4T"
      }
    },
    {
      "cell_type": "markdown",
      "source": [
        "Calculating minimum and maximum values involves determining the smallest and largest values in a given set of data. This concept is important because it helps us understand the range of values within a dataset, identify outliers, and make informed decisions based on the data at hand.\n",
        "\n"
      ],
      "metadata": {
        "id": "jB3coS69dx1K"
      }
    },
    {
      "cell_type": "code",
      "execution_count": null,
      "metadata": {
        "id": "jaxN9SNYPB4n"
      },
      "outputs": [],
      "source": [
        "# Load the dataset\n",
        "data = pd.read_csv(\"https://afterwork.ai/ds/e/operations_feq3k.csv\")\n",
        "\n",
        "# Calculate the minimum and maximum values for the 'Price' column\n",
        "min_price = data['Price'].min()\n",
        "max_price = data['Price'].max()\n",
        "\n",
        "# Display the results\n",
        "print(\"Minimum Price:\", min_price)\n",
        "print(\"Maximum Price:\", max_price)"
      ]
    },
    {
      "cell_type": "markdown",
      "source": [
        "# 6. How to Visualize Data"
      ],
      "metadata": {
        "id": "bd7ORaefMNiu"
      }
    },
    {
      "cell_type": "code",
      "execution_count": null,
      "metadata": {
        "id": "G8IXr-QvMNiv"
      },
      "outputs": [],
      "source": [
        "# Import the standard Python data visualization library\n",
        "import matplotlib.pyplot as plt"
      ]
    },
    {
      "cell_type": "markdown",
      "source": [
        "## 6.1 Bar plot"
      ],
      "metadata": {
        "id": "VvIfjbFJPJzS"
      }
    },
    {
      "cell_type": "markdown",
      "source": [
        "We use bar plots to visualize categorical data using rectangular bars with lengths proportional to the values they represent. This type of plot is commonly used to compare different categories or show the distribution of a single categorical variable.\n",
        "\n"
      ],
      "metadata": {
        "id": "qOdmbkTwfkB1"
      }
    },
    {
      "cell_type": "code",
      "source": [
        "# Step 1: Data importation and exploration\n",
        "data = pd.read_csv(\"https://afterwork.ai/ds/e/sales_29kdc.csv\")\n",
        "data.head()"
      ],
      "metadata": {
        "id": "VKtXnNhGPND1"
      },
      "execution_count": null,
      "outputs": []
    },
    {
      "cell_type": "code",
      "source": [
        "# Step 2: Data preparation\n",
        "category_sales = data.groupby('Category')['Sales'].sum().reset_index()\n",
        "category_sales"
      ],
      "metadata": {
        "id": "W6sOnEozfyIF"
      },
      "execution_count": null,
      "outputs": []
    },
    {
      "cell_type": "code",
      "source": [
        "# Step 3: Creating and customizing the plot\n",
        "plt.figure(figsize=(5, 4))\n",
        "plt.bar(category_sales['Category'], category_sales['Sales'], color='skyblue')\n",
        "plt.xlabel('Category')\n",
        "plt.ylabel('Total Sales')\n",
        "plt.title('Total Sales by Category')\n",
        "plt.show()"
      ],
      "metadata": {
        "id": "343Okgdsf8bt"
      },
      "execution_count": null,
      "outputs": []
    },
    {
      "cell_type": "markdown",
      "source": [
        "### Challenge"
      ],
      "metadata": {
        "id": "S72qUJoygaYV"
      }
    },
    {
      "cell_type": "markdown",
      "source": [
        "Create a bar plot to visualize the sales data by region from the dataset located at https://afterwork.ai/ds/ch/sales_0ztj.csv."
      ],
      "metadata": {
        "id": "ltsJ4EbdgvuG"
      }
    },
    {
      "cell_type": "code",
      "source": [
        "# Step 1: Data importation and exploration\n",
        "data = pd.read_csv(\"https://afterwork.ai/ds/ch/sales_0ztj.csv\")\n",
        "data.head()"
      ],
      "metadata": {
        "id": "hO58zAcQgb5N"
      },
      "execution_count": null,
      "outputs": []
    },
    {
      "cell_type": "code",
      "source": [
        "# Step 2: Data preparation\n",
        "region_sales = data.groupby('Region')['Sales'].sum().reset_index()\n",
        "region_sales"
      ],
      "metadata": {
        "id": "hyv5Pl18g5ck"
      },
      "execution_count": null,
      "outputs": []
    },
    {
      "cell_type": "code",
      "source": [
        "# Step 3: Creating and customizing the plot\n",
        "plt.figure(figsize=(5, 4))\n",
        "# Write your code here\n"
      ],
      "metadata": {
        "id": "cqrFtCKKg_7b"
      },
      "execution_count": null,
      "outputs": []
    },
    {
      "cell_type": "markdown",
      "source": [
        "## 6.2 Pie chart"
      ],
      "metadata": {
        "id": "jYDkifT9PNnv"
      }
    },
    {
      "cell_type": "markdown",
      "source": [
        "Pie charts in data visualization are circular statistical graphics that are divided into slices to illustrate numerical proportions. Each slice represents a proportion of the whole data set, making it easy to compare the sizes of different categories.\n",
        "\n"
      ],
      "metadata": {
        "id": "9P7EUOe_iqwY"
      }
    },
    {
      "cell_type": "code",
      "source": [
        "# Step 1: Data importation and exploration\n",
        "data = pd.read_csv(\"https://afterwork.ai/ds/e/sales_ernw1.csv\")\n",
        "data"
      ],
      "metadata": {
        "id": "XlggJnIfil2B"
      },
      "execution_count": null,
      "outputs": []
    },
    {
      "cell_type": "code",
      "source": [
        "# Step 2: Data preparation\n",
        "labels = data['Product']\n",
        "sizes = data['Quantity']"
      ],
      "metadata": {
        "id": "XSKgZa01PNnw"
      },
      "execution_count": null,
      "outputs": []
    },
    {
      "cell_type": "code",
      "source": [
        "# Step 3: Creating and customizing the plot\n",
        "plt.figure(figsize=(5, 4))\n",
        "plt.pie(sizes, labels=labels, autopct='%1.1f%%', startangle=40)\n",
        "plt.axis('equal')\n",
        "plt.title('Sales Distribution by Product')\n",
        "plt.show()"
      ],
      "metadata": {
        "id": "Laaitqdriosi"
      },
      "execution_count": null,
      "outputs": []
    },
    {
      "cell_type": "markdown",
      "source": [
        "### Challenge"
      ],
      "metadata": {
        "id": "utzASu7SkJKP"
      }
    },
    {
      "cell_type": "markdown",
      "source": [
        "Create a pie chart to visualize the distribution of salaries across different departments using the dataset from the URL: https://afterwork.ai/ds/ch/operations_lek18.csv."
      ],
      "metadata": {
        "id": "Ny6EeQ7ukmSe"
      }
    },
    {
      "cell_type": "code",
      "source": [
        "# Step 1: Data importation and exploration\n",
        "data = pd.read_csv(\"https://afterwork.ai/ds/ch/operations_lek18.csv\")\n",
        "\n",
        "# Step 2: Data preparation\n",
        "labels = data['Department']\n",
        "sizes = data['Salary']\n",
        "\n",
        "# Step 3: Creating and customizing the plot\n",
        "# Write your code here\n"
      ],
      "metadata": {
        "id": "6kgWlFF3kjhi"
      },
      "execution_count": null,
      "outputs": []
    },
    {
      "cell_type": "markdown",
      "source": [
        "## 6.3 Line chart"
      ],
      "metadata": {
        "id": "_Qw26nvpPQkM"
      }
    },
    {
      "cell_type": "markdown",
      "source": [
        "Line plots in Matplotlib are used to visualize data points connected by straight line segments. They are important because they help us easily identify patterns and trends in our data, making it easier to draw insights and make data-driven decisions."
      ],
      "metadata": {
        "id": "MXhoxFTFlEA1"
      }
    },
    {
      "cell_type": "code",
      "source": [
        "# Step 1: Data importation and exploration\n",
        "data = pd.read_csv(\"https://afterwork.ai/ds/e/operations_f3ng8.csv\")\n",
        "data.head()"
      ],
      "metadata": {
        "id": "dMu-APyoPQkM"
      },
      "execution_count": null,
      "outputs": []
    },
    {
      "cell_type": "code",
      "source": [
        "# Step 2: Data preparation\n",
        "x = data['Month']\n",
        "y = data['Revenue']"
      ],
      "metadata": {
        "id": "BDIswGUslSYG"
      },
      "execution_count": null,
      "outputs": []
    },
    {
      "cell_type": "code",
      "source": [
        "# Step 3: Creating and customizing the plot\n",
        "plt.figure(figsize=(10, 6))\n",
        "plt.plot(x, y, marker='o', color='b', linestyle='-', linewidth=2)\n",
        "plt.title('Revenue Trend Over Months')\n",
        "plt.xlabel('Month')\n",
        "plt.xticks(rotation=45)\n",
        "plt.ylabel('Revenue')\n",
        "plt.grid(True)\n",
        "plt.show()"
      ],
      "metadata": {
        "id": "Kabs2cNZlTmh"
      },
      "execution_count": null,
      "outputs": []
    },
    {
      "cell_type": "markdown",
      "source": [
        "## 6.4 Histogram"
      ],
      "metadata": {
        "id": "ZMxUlXVtPUiP"
      }
    },
    {
      "cell_type": "markdown",
      "source": [
        "Creating a histogram in Matplotlib allows us to visualize the distribution of a dataset by grouping data into bins and displaying the frequency of each bin. This is important because it helps us understand the shape of the data and identify patterns or outliers.\n",
        "\n"
      ],
      "metadata": {
        "id": "ytd4xlzQoF8k"
      }
    },
    {
      "cell_type": "code",
      "source": [
        "# Step 1: Data importation and exploration\n",
        "data = pd.read_csv(\"https://afterwork.ai/ds/ch/sales_0ztj.csv\")\n",
        "data.head()"
      ],
      "metadata": {
        "id": "7U2zfwtrPUif"
      },
      "execution_count": null,
      "outputs": []
    },
    {
      "cell_type": "code",
      "source": [
        "# Step 2: Creating and customizing the plot\n",
        "plt.hist(data['Profit'], bins=10, color='skyblue', edgecolor='black')\n",
        "plt.xlabel('Profit')\n",
        "plt.ylabel('Frequency')\n",
        "plt.title('Distribution of Profit')\n",
        "plt.show()"
      ],
      "metadata": {
        "id": "PEkDDNYaoMuR"
      },
      "execution_count": null,
      "outputs": []
    }
  ]
}