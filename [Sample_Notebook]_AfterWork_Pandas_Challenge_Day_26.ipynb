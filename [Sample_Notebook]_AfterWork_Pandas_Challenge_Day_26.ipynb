{
  "nbformat": 4,
  "nbformat_minor": 0,
  "metadata": {
    "colab": {
      "provenance": [],
      "toc_visible": true,
      "collapsed_sections": [
        "3jkclDbuRN2q",
        "NRRKrIqWRPi0",
        "yYjDwKzMR_5C",
        "dT7wf3VRXrn7",
        "fvfg5H4GXwJJ",
        "w7ZqI_4JXwJL",
        "cLifOUerXwdF",
        "H_gxP4NGXwlN",
        "ZP_cJdDuXwlO",
        "V-kemUE9Xwvk",
        "M9ofOnG3Xw4G",
        "PaJnuA65Xw4H",
        "XLP3iNb0Xw_j",
        "9WShEIadXxJf",
        "QughV8BDXxJg",
        "0j2EQg3AXxSV"
      ],
      "include_colab_link": true
    },
    "kernelspec": {
      "name": "python3",
      "display_name": "Python 3"
    },
    "language_info": {
      "name": "python"
    }
  },
  "cells": [
    {
      "cell_type": "markdown",
      "metadata": {
        "id": "view-in-github",
        "colab_type": "text"
      },
      "source": [
        "<a href=\"https://colab.research.google.com/github/Lucy-code-tech/100-Days-of-Code-Data-Science/blob/main/%5BSample_Notebook%5D_AfterWork_Pandas_Challenge_Day_26.ipynb\" target=\"_parent\"><img src=\"https://colab.research.google.com/assets/colab-badge.svg\" alt=\"Open In Colab\"/></a>"
      ]
    },
    {
      "cell_type": "markdown",
      "source": [
        "# [Sample Notebook] AfterWork: Pandas Challenge - Day 26"
      ],
      "metadata": {
        "id": "EizngoP4RMRD"
      }
    },
    {
      "cell_type": "markdown",
      "source": [
        "# Pre-requisite"
      ],
      "metadata": {
        "id": "3jkclDbuRN2q"
      }
    },
    {
      "cell_type": "code",
      "execution_count": null,
      "metadata": {
        "id": "R-RU6CyiQTMk"
      },
      "outputs": [],
      "source": [
        "# Import pandas for data manipulation\n",
        "import pandas as pd"
      ]
    },
    {
      "cell_type": "markdown",
      "source": [
        "# 1. Selecting Multiple Rows with iloc"
      ],
      "metadata": {
        "id": "NRRKrIqWRPi0"
      }
    },
    {
      "cell_type": "markdown",
      "source": [
        "We use the iloc method in Pandas to select multiple rows based on their integer index positions. This allows us to extract specific rows from a DataFrame by specifying a list of row indices. For example, in an e-commerce scenario, we may want to select a range of rows representing customer orders placed during a specific time period.\n",
        "\n",
        "To apply this concept, we first create a list of integer indices corresponding to the rows we want to select, and then use the iloc method with this list to extract those rows from the DataFrame.\n",
        "\n"
      ],
      "metadata": {
        "id": "-pFQcSugRmcV"
      }
    },
    {
      "cell_type": "code",
      "source": [
        "# Loading the dataset from the provided URL\n",
        "df = pd.read_csv('https://afterwork.ai/ds/e/ecommerce_products_v0enr.csv')\n",
        "df.head()"
      ],
      "metadata": {
        "id": "ihUmJdWB0jNz"
      },
      "execution_count": null,
      "outputs": []
    },
    {
      "cell_type": "code",
      "source": [
        "# Selecting multiple rows using iloc based on their integer index positions\n",
        "# Creating a list of row indices to select rows 2, 5, and 8\n",
        "rows_to_select = [2, 5, 8]\n",
        "\n",
        "# Using iloc to extract the specified rows\n",
        "selected_rows = df.iloc[rows_to_select]\n",
        "\n",
        "# Displaying the selected rows\n",
        "selected_rows"
      ],
      "metadata": {
        "id": "BvwlfSllRkSi"
      },
      "execution_count": null,
      "outputs": []
    },
    {
      "cell_type": "markdown",
      "source": [
        "## <font color=\"green\">Challenge</font>"
      ],
      "metadata": {
        "id": "yYjDwKzMR_5C"
      }
    },
    {
      "cell_type": "markdown",
      "source": [
        "Given the e-commerce orders dataset available at the following URL: https://afterwork.ai/ds/ch/e-commerce_orders_c5pbe.csv, write a Python code snippet using Pandas to select a range of rows representing customer orders placed during the month of February 2022. You should extract these rows based on the 'Order Date' column.\n"
      ],
      "metadata": {
        "id": "IOPAiWudSGuB"
      }
    },
    {
      "cell_type": "code",
      "source": [
        "# Loading the dataset from the provided URL\n",
        "df = pd.read_csv('https://afterwork.ai/ds/ch/e-commerce_orders_xbhy4.csv')\n",
        "df.head()"
      ],
      "metadata": {
        "id": "6B-Sc0VmcO5L"
      },
      "execution_count": null,
      "outputs": []
    },
    {
      "cell_type": "code",
      "source": [
        "# Convert order_date to datetime formart\n",
        "# Your code goes here\n",
        "\n",
        "# Selecting multiple rows using iloc based on their integer index positions\n",
        "# Creating a list of row indices to select rows representing customer orders placed during February 2022\n",
        "# Your code goes here\n",
        "\n",
        "# Using iloc to extract the specified rows for February 2022 orders\n",
        "# Your code goes here\n",
        "\n",
        "# Displaying the selected rows for February 2022 orders\n",
        "# Your code goes here\n"
      ],
      "metadata": {
        "id": "jbIAKMGxSPW9"
      },
      "execution_count": null,
      "outputs": []
    },
    {
      "cell_type": "markdown",
      "source": [
        "# 2. Inserting New Rows in Pandas"
      ],
      "metadata": {
        "id": "dT7wf3VRXrn7"
      }
    },
    {
      "cell_type": "markdown",
      "source": [
        "Given the e-commerce orders dataset available at the URL: https://afterwork.ai/ds/ch/e-commerce_orders_8afbi.csv, create a code snippet using Pandas to insert a new row for a customer named 'Alice Johnson' who purchased a 'Laptop' in the 'Electronics' category with a quantity of 1, unit price of 900, total price of 900, order date of 2022-03-21, shipping address of '456 Pine St', and payment method as 'Credit Card'. Ensure that the new row is added to the existing DataFrame following the steps mentioned in the lesson.\n"
      ],
      "metadata": {
        "id": "USKHtuToYFzi"
      }
    },
    {
      "cell_type": "code",
      "source": [
        "# Reading the dataset from the provided URL\n",
        "df = pd.read_csv('https://afterwork.ai/ds/e/ecommerce_products_fncea.csv')\n",
        "df.head()"
      ],
      "metadata": {
        "id": "FGVbK6GT0vYM"
      },
      "execution_count": null,
      "outputs": []
    },
    {
      "cell_type": "code",
      "source": [
        "# Creating a new row to insert into the DataFrame\n",
        "new_row = pd.DataFrame([{'Product ID': 1076, 'Product Name': 'Smart Watch', 'Category': 'Electronics', 'Brand': 'UVW', 'Price': 150, 'Stock Quantity': 15, 'Color': 'Black', 'Size': 'One Size', 'Weight': 0.3, 'Rating': 4.6}])\n",
        "\n",
        "# Appending the new row to the existing DataFrame using pd.concat\n",
        "df = pd.concat([df, new_row], ignore_index=True)\n",
        "\n",
        "# Previewing the updated DataFrame with the new row inserted\n",
        "df.head()"
      ],
      "metadata": {
        "id": "kNtXdT-xXroN"
      },
      "execution_count": null,
      "outputs": []
    },
    {
      "cell_type": "markdown",
      "source": [
        "# 3. Querying Data with Multiple Conditions using the Query Method"
      ],
      "metadata": {
        "id": "fvfg5H4GXwJJ"
      }
    },
    {
      "cell_type": "markdown",
      "source": [
        "We query data with multiple conditions using the query method in Pandas to filter and extract specific information from a DataFrame. We use this method when we need to retrieve rows that meet multiple criteria simultaneously. For example, in an E-commerce scenario, we can query for products that are in stock, have a price below a certain threshold, and belong to a specific category.\n",
        "\n",
        "To apply this concept, we construct a query string that combines multiple conditions using logical operators such as 'and' and 'or' within the query method in Pandas.\n",
        "\n"
      ],
      "metadata": {
        "id": "SO_PGlm8eaUa"
      }
    },
    {
      "cell_type": "code",
      "source": [
        "# Load the dataset from the provided URL\n",
        "df = pd.read_csv('https://afterwork.ai/ds/e/ecommerce_products_p34zi.csv')\n",
        "df.head()"
      ],
      "metadata": {
        "id": "IEcSL_FC08eo"
      },
      "execution_count": null,
      "outputs": []
    },
    {
      "cell_type": "code",
      "source": [
        "# Applying query method with multiple conditions\n",
        "filtered_data = df.query(\"Category == 'Apparel' and Price < 50 and Stock > 50\")\n",
        "\n",
        "# Display the filtered data\n",
        "filtered_data"
      ],
      "metadata": {
        "id": "T_eRQKZzXwJK"
      },
      "execution_count": null,
      "outputs": []
    },
    {
      "cell_type": "markdown",
      "source": [
        "## <font color=\"green\">Challenge</font>"
      ],
      "metadata": {
        "id": "w7ZqI_4JXwJL"
      }
    },
    {
      "cell_type": "markdown",
      "source": [
        "Given the E-commerce Orders dataset available at the URL: https://afterwork.ai/ds/ch/e-commerce_orders_2dhmq.csv, create a code snippet using the Pandas library to query for orders that were delivered and had a total price greater than $100. Display the Order ID, Customer Name, Product Name, and Total Price of these orders.\n"
      ],
      "metadata": {
        "id": "wKtKBJkxefN0"
      }
    },
    {
      "cell_type": "code",
      "source": [
        "# Load the dataset from the provided URL\n",
        "df = pd.read_csv('https://afterwork.ai/ds/ch/e-commerce_orders_2dhmq.csv')\n",
        "df.head()"
      ],
      "metadata": {
        "id": "RE6vSd3cjG6I"
      },
      "execution_count": null,
      "outputs": []
    },
    {
      "cell_type": "code",
      "source": [
        " # Applying query method with multiple conditions\n",
        "# Your code goes here\n",
        "\n",
        "# Display the filtered data\n",
        "# Your code goes here\n"
      ],
      "metadata": {
        "id": "XorFAEwOXwJL"
      },
      "execution_count": null,
      "outputs": []
    },
    {
      "cell_type": "markdown",
      "source": [
        "# 4. Creating Dynamic Queries with Variables in the Query Method\n"
      ],
      "metadata": {
        "id": "cLifOUerXwdF"
      }
    },
    {
      "cell_type": "markdown",
      "source": [
        "We create dynamic queries with variables in the query method to make our data analysis more flexible and adaptable. By using variables in our queries, we can easily change the filtering conditions based on different scenarios without hardcoding values. For example, in an e-commerce dataset, we can use variables to filter products based on different price ranges, categories, or customer ratings.\n",
        "\n",
        "To apply this concept, we define variables with specific values representing our filtering criteria and then incorporate these variables into the query method to dynamically filter the data based on the defined conditions.\n",
        "\n"
      ],
      "metadata": {
        "id": "Z-1E45uKjfF5"
      }
    },
    {
      "cell_type": "code",
      "source": [
        "# Load the dataset from the provided URL\n",
        "df = pd.read_csv('https://afterwork.ai/ds/e/ecommerce_products_rm7aw.csv')\n",
        "df.head()"
      ],
      "metadata": {
        "id": "ZnOXjUsX1JHG"
      },
      "execution_count": null,
      "outputs": []
    },
    {
      "cell_type": "code",
      "source": [
        "# Define variables for filtering criteria\n",
        "min_price = 50\n",
        "max_price = 100\n",
        "min_rating = 4.5\n",
        "\n",
        "# Create a dynamic query using variables in the query method\n",
        "filtered_data = df.query('Price >= @min_price and Price <= @max_price and Rating >= @min_rating')\n",
        "\n",
        "# Display the filtered data\n",
        "filtered_data"
      ],
      "metadata": {
        "id": "HRuE-9EdkMEM"
      },
      "execution_count": null,
      "outputs": []
    },
    {
      "cell_type": "markdown",
      "source": [
        "# 5. Using the index within the query method"
      ],
      "metadata": {
        "id": "H_gxP4NGXwlN"
      }
    },
    {
      "cell_type": "markdown",
      "source": [
        "We use the index within the query method in Pandas to efficiently filter and manipulate data based on specific index values. For example, we can quickly retrieve data related to specific product IDs or customer IDs by directly referencing their index values.\n",
        "\n",
        "To apply this concept, we simply use the query method in combination with the index values to filter and analyze E-commerce data effectively."
      ],
      "metadata": {
        "id": "AsEqkXNyn2G6"
      }
    },
    {
      "cell_type": "code",
      "source": [
        "# Load the dataset from the provided URL\n",
        "df = pd.read_csv('https://afterwork.ai/ds/e/ecommerce_products_694t1.csv')\n",
        "\n",
        "# Set the 'Product ID' column as the index for efficient querying\n",
        "df.set_index('Product ID', inplace=True)\n",
        "\n",
        "# Query the dataset to retrieve data for a specific product ID\n",
        "product_id = 1001\n",
        "product_data = df.query('index == @product_id')\n",
        "\n",
        "# Display the data related to the specific product ID\n",
        "product_data"
      ],
      "metadata": {
        "id": "j4iOt2deXwlO"
      },
      "execution_count": null,
      "outputs": []
    },
    {
      "cell_type": "markdown",
      "source": [
        "## <font color=\"green\">Challenge</font>"
      ],
      "metadata": {
        "id": "ZP_cJdDuXwlO"
      }
    },
    {
      "cell_type": "markdown",
      "source": [
        "Given the E-commerce Orders dataset available at the following URL: https://afterwork.ai/ds/ch/e-commerce_orders_8kjxh.csv, create a code snippet using the Pandas library to filter and extract information based on specific Customer IDs using the index within the query method. Your task is to retrieve all orders related to Customer ID 2005.\n"
      ],
      "metadata": {
        "id": "T85rFFXNn9Xe"
      }
    },
    {
      "cell_type": "code",
      "source": [
        "# Load the dataset from the provided URL\n",
        "df = pd.read_csv('https://afterwork.ai/ds/ch/e-commerce_orders_8kjxh.csv')\n",
        "df.head()"
      ],
      "metadata": {
        "id": "LJy4DbLLoiWA"
      },
      "execution_count": null,
      "outputs": []
    },
    {
      "cell_type": "code",
      "source": [
        "# Set the 'Customer ID' column as the index for efficient querying\n",
        "# Your code goes here\n",
        "\n",
        "# Query the dataset to retrieve data for a specific Customer ID\n",
        "# Your code goes here\n",
        "\n",
        "# Display the data related to the specific Customer ID\n",
        "# Your code goes here\n"
      ],
      "metadata": {
        "id": "72INEoMUXwlP"
      },
      "execution_count": null,
      "outputs": []
    },
    {
      "cell_type": "markdown",
      "source": [
        "# 6. Combining the query method with the assign method"
      ],
      "metadata": {
        "id": "V-kemUE9Xwvk"
      }
    },
    {
      "cell_type": "markdown",
      "source": [
        "We combine the query method with the assign method in Pandas to efficiently filter and create new columns in our E-commerce dataset. This allows us to perform complex data manipulations in a single step. For example, in our E-commerce dataset, we can filter out all orders with a total value greater than $100 and assign a new column indicating high-value orders.\n",
        "\n",
        "To apply this concept, we first use the query method to filter the rows meeting our criteria, and then we use the assign method to create a new column based on the filtered results.\n",
        "\n"
      ],
      "metadata": {
        "id": "H9dfRagLqXV5"
      }
    },
    {
      "cell_type": "code",
      "source": [
        "# Loading the E-commerce dataset from the provided URL\n",
        "ecommerce_data = pd.read_csv('https://afterwork.ai/ds/e/ecommerce_products_guxv9.csv')\n",
        "ecommerce_data.head()"
      ],
      "metadata": {
        "id": "2QhPb7a_qd3I"
      },
      "execution_count": null,
      "outputs": []
    },
    {
      "cell_type": "code",
      "source": [
        "# Combining the query method with the assign method for E-commerce Analysis\n",
        "# Filtering out all products with a price greater than $50 and assigning a new column 'High_Price'\n",
        "filtered_data = ecommerce_data.query('Price > 50').assign(High_Price='Yes')\n",
        "\n",
        "# Displaying the filtered data with the new 'High_Price' column\n",
        "filtered_data"
      ],
      "metadata": {
        "id": "TzE_eAR9Xwvl"
      },
      "execution_count": null,
      "outputs": []
    },
    {
      "cell_type": "markdown",
      "source": [
        "# 7. Method Chaining in Pandas"
      ],
      "metadata": {
        "id": "M9ofOnG3Xw4G"
      }
    },
    {
      "cell_type": "markdown",
      "source": [
        "We use method chaining in Pandas to perform multiple operations on a DataFrame in a single line of code. For example, we can filter rows, select columns, and apply transformations all in one go.\n",
        "\n",
        "A real-life use case of method chaining in Pandas is when we need to clean and preprocess e-commerce data. We can chain methods like filtering, sorting, and aggregating to prepare the data for analysis efficiently.\n",
        "\n",
        "To apply method chaining in Pandas, we simply call multiple methods one after the other on a DataFrame, separated by dots. This allows us to create a sequence of operations that are executed in order, making our data processing workflow more efficient.\n",
        "\n"
      ],
      "metadata": {
        "id": "dNtfJ-jvr60C"
      }
    },
    {
      "cell_type": "code",
      "source": [
        "# Load the dataset from the provided URL\n",
        "df = pd.read_csv('https://afterwork.ai/ds/e/ecommerce_products_1cwo4.csv')\n",
        "\n",
        "# Method chaining example: Filtering, Sorting, and Selecting Columns\n",
        "result = df[df['Category'] == 'Apparel'] \\\n",
        "         .sort_values(by='Price', ascending=False) \\\n",
        "         .loc[:, ['Product Name', 'Price', 'Discount']]\n",
        "\n",
        "# Display the final result\n",
        "result"
      ],
      "metadata": {
        "id": "Z-7mpXbPXw4H"
      },
      "execution_count": null,
      "outputs": []
    },
    {
      "cell_type": "markdown",
      "source": [
        "## <font color=\"green\">Challenge</font>"
      ],
      "metadata": {
        "id": "PaJnuA65Xw4H"
      }
    },
    {
      "cell_type": "markdown",
      "source": [
        "Using the e-commerce orders dataset from the URL: https://afterwork.ai/ds/ch/e-commerce_orders_k2g3j.csv, create a code snippet that demonstrates method chaining in Pandas to filter the orders where the Total Price is greater than $100 and the Payment Method is 'Credit Card'. Display the Order ID, Customer Name, Product Name, and Total Price of these orders.\n"
      ],
      "metadata": {
        "id": "JhJQ_Z1lsL2m"
      }
    },
    {
      "cell_type": "code",
      "source": [
        "# Load the dataset from the provided URL\n",
        "df = pd.read_csv('https://afterwork.ai/ds/ch/e-commerce_orders_k2g3j.csv')\n",
        "df.head()"
      ],
      "metadata": {
        "id": "iR1Q8xMAsVp5"
      },
      "execution_count": null,
      "outputs": []
    },
    {
      "cell_type": "code",
      "source": [
        "# Method chaining example: Filtering orders where Total Price > $100 and Payment Method is 'Credit Card'\n",
        "# Your code goes here\n",
        "\n",
        "# Display the final result\n",
        "# Your code goes here\n"
      ],
      "metadata": {
        "id": "16iDq4wIXw4H"
      },
      "execution_count": null,
      "outputs": []
    },
    {
      "cell_type": "markdown",
      "source": [
        "# 8. Using the Pandas Pipe Method for Data Transformation"
      ],
      "metadata": {
        "id": "XLP3iNb0Xw_j"
      }
    },
    {
      "cell_type": "markdown",
      "source": [
        "We use the Pandas pipe method to streamline our data transformation process by allowing us to chain multiple operations together. For example, in an e-commerce scenario, we can use the pipe method to clean and preprocess our sales data by applying operations such as data cleaning, feature engineering, and normalization in a sequential manner.\n",
        "\n",
        "To apply the Pandas pipe method, we first define our custom functions for data transformation and then chain them together using the pipe method on our DataFrame, ensuring that each function operates on the DataFrame in a sequential order.\n",
        "\n"
      ],
      "metadata": {
        "id": "GqKYd1Zeth1S"
      }
    },
    {
      "cell_type": "code",
      "source": [
        "# Define custom functions for data transformation\n",
        "def clean_data(df):\n",
        "    # Drop unnecessary columns\n",
        "    df = df.drop(['Color', 'Size'], axis=1)\n",
        "    return df\n",
        "\n",
        "def normalize_price(df):\n",
        "    # Normalize the 'Price' column\n",
        "    df['Price'] = (df['Price'] - df['Price'].mean()) / df['Price'].std()\n",
        "    return df\n",
        "\n",
        "# Load the dataset from the URL\n",
        "df = pd.read_csv('https://afterwork.ai/ds/e/ecommerce_products_u175q.csv')\n",
        "\n",
        "# Apply data transformation using the pipe method\n",
        "df_transformed = (\n",
        "    df.pipe(clean_data)\n",
        "      .pipe(normalize_price)\n",
        ")\n",
        "\n",
        "# Display the transformed DataFrame\n",
        "df_transformed.head()"
      ],
      "metadata": {
        "id": "mpergVNeXw_m"
      },
      "execution_count": null,
      "outputs": []
    },
    {
      "cell_type": "markdown",
      "source": [
        "# 9. Grouping and using multiple aggregate functions"
      ],
      "metadata": {
        "id": "9WShEIadXxJf"
      }
    },
    {
      "cell_type": "markdown",
      "source": [
        "By grouping our data, we can then apply multiple aggregate functions, such as sum, mean, count, and custom functions, to each group. This allows us to derive valuable insights and metrics from our E-commerce dataset. For example, we can group sales data by product category and calculate the total revenue generated by each category.\n",
        "\n",
        "To apply this concept, we first group our data using the groupby() method in Pandas, specifying the column(s) to group by. We then chain this with aggregate functions like sum(), mean(), or custom functions using the agg() method to calculate metrics for each group."
      ],
      "metadata": {
        "id": "AFSp1AqC19yn"
      }
    },
    {
      "cell_type": "code",
      "source": [
        "# Loading the dataset from the provided URL\n",
        "df = pd.read_csv('https://afterwork.ai/ds/e/e-commerce_products_gbeqj.csv')\n",
        "df.head()"
      ],
      "metadata": {
        "id": "AXI1Pkpy2CnK"
      },
      "execution_count": null,
      "outputs": []
    },
    {
      "cell_type": "code",
      "source": [
        "# Grouping the data by 'Category' and calculating total sales and average price for each category\n",
        "grouped_data = df.groupby('Category').agg({'Sales': 'sum', 'Price': 'mean'})\n",
        "\n",
        "# Renaming the columns for better understanding\n",
        "grouped_data = grouped_data.rename(columns={'Sales': 'Total Sales', 'Price': 'Average Price'}).reset_index()\n",
        "\n",
        "# Preview the data\n",
        "grouped_data"
      ],
      "metadata": {
        "id": "NslYSxXJXxJf"
      },
      "execution_count": null,
      "outputs": []
    },
    {
      "cell_type": "markdown",
      "source": [
        "## <font color=\"green\">Challenge</font>"
      ],
      "metadata": {
        "id": "QughV8BDXxJg"
      }
    },
    {
      "cell_type": "markdown",
      "source": [
        "Given the E-commerce Orders dataset available at the URL: https://afterwork.ai/ds/ch/e-commerce_orders_3sl1e.csv, write a Python Pandas code snippet to group the data by 'Category' and calculate the average 'Unit Price' and total 'Quantity' for each category. Display the result in a DataFrame.\n"
      ],
      "metadata": {
        "id": "kmGb0En-yF2q"
      }
    },
    {
      "cell_type": "code",
      "source": [
        "# Loading the dataset from the provided URL\n",
        "df = pd.read_csv('https://afterwork.ai/ds/ch/e-commerce_orders_3sl1e.csv')\n",
        "df.head()"
      ],
      "metadata": {
        "id": "DAUDneL3yI0p"
      },
      "execution_count": null,
      "outputs": []
    },
    {
      "cell_type": "code",
      "source": [
        "# Grouping the data by 'Category' and calculating total quantity and average unit price for each category\n",
        "# Your code goes here\n",
        "\n",
        "# Renaming the columns for better understanding\n",
        "# Your code goes here\n",
        "\n",
        "# Displaying the grouped and aggregated data\n",
        "# Your code goes here\n"
      ],
      "metadata": {
        "id": "Lo2-pilVXxJg"
      },
      "execution_count": null,
      "outputs": []
    },
    {
      "cell_type": "markdown",
      "source": [
        "# 10. Searching using Contains"
      ],
      "metadata": {
        "id": "0j2EQg3AXxSV"
      }
    },
    {
      "cell_type": "markdown",
      "source": [
        "We search using the 'Contains' method in Pandas for E-commerce when we want to find specific values or patterns within our dataset. This method allows us to search for a particular substring or pattern within a column or DataFrame.\n",
        "\n",
        "To apply this concept, we use the 'str.contains()' method in Pandas, specifying the substring or pattern we are looking for. This method returns a boolean Series indicating whether each element in the column contains the specified pattern.\n",
        "\n"
      ],
      "metadata": {
        "id": "ycpw9UkqzEMh"
      }
    },
    {
      "cell_type": "code",
      "source": [
        "# Reading the dataset from the provided URL\n",
        "df = pd.read_csv('https://afterwork.ai/ds/e/e-commerce_products_8qscf.csv')\n",
        "df.head()"
      ],
      "metadata": {
        "id": "SunSJk7Z2J1B"
      },
      "execution_count": null,
      "outputs": []
    },
    {
      "cell_type": "code",
      "source": [
        "# Searching for products containing the word 'Smart' in the Product Name column\n",
        "smart_products = df[df['Product Name'].str.contains('Smart', case=False)]\n",
        "\n",
        "# Displaying the products that contain the word 'Smart' in their name\n",
        "smart_products[['Product ID', 'Product Name', 'Category', 'Price']]"
      ],
      "metadata": {
        "id": "EAFZi7sjXxSX"
      },
      "execution_count": null,
      "outputs": []
    }
  ]
}